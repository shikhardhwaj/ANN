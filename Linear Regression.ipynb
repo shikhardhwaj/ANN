{
 "cells": [
  {
   "cell_type": "markdown",
   "metadata": {},
   "source": [
    "# Load Required Packages"
   ]
  },
  {
   "cell_type": "code",
   "execution_count": 1,
   "metadata": {
    "collapsed": true
   },
   "outputs": [],
   "source": [
    "import matplotlib.pyplot as plt\n",
    "import numpy as np\n",
    "import pandas as pd\n",
    "from sklearn import datasets, linear_model\n",
    "import statsmodels.api as sm\n",
    "import warnings\n",
    "warnings.filterwarnings('ignore')"
   ]
  },
  {
   "cell_type": "markdown",
   "metadata": {},
   "source": [
    "# Load Input Data in Appropriate Format"
   ]
  },
  {
   "cell_type": "code",
   "execution_count": 2,
   "metadata": {
    "collapsed": true
   },
   "outputs": [],
   "source": [
    "def get_data(file_name):\n",
    "    data = pd.read_csv(file_name)\n",
    "    print(data.tail())\n",
    "    x_parameter = []\n",
    "    y_parameter = []\n",
    "    for single_square_feet ,single_price_value in zip(data['square_feet'],data['price']):\n",
    "        x_parameter.append([float(single_square_feet)])\n",
    "        y_parameter.append(float(single_price_value))\n",
    "    return x_parameter,y_parameter"
   ]
  },
  {
   "cell_type": "code",
   "execution_count": 3,
   "metadata": {
    "collapsed": false
   },
   "outputs": [
    {
     "name": "stdout",
     "output_type": "stream",
     "text": [
      "   square_feet  price\n",
      "2          250   8450\n",
      "3          300   9450\n",
      "4          350  11450\n",
      "5          400  15450\n",
      "6          600  18450\n",
      "[[150.0], [200.0], [250.0], [300.0], [350.0], [400.0], [600.0]]\n",
      "[6450.0, 7450.0, 8450.0, 9450.0, 11450.0, 15450.0, 18450.0]\n"
     ]
    }
   ],
   "source": [
    "x,y = get_data('file1.csv')\n",
    "print(x)\n",
    "print(y)"
   ]
  },
  {
   "cell_type": "markdown",
   "metadata": {},
   "source": [
    "# Modeling Linear Regression"
   ]
  },
  {
   "cell_type": "code",
   "execution_count": 4,
   "metadata": {
    "collapsed": true
   },
   "outputs": [],
   "source": [
    "# Predicting Housing Prices using Housing Area\n",
    "def linear_model_main(X_parameters,Y_parameters,predict_value):\n",
    "    regr = linear_model.LinearRegression()\n",
    "    r = regr.fit(X_parameters, Y_parameters)\n",
    "    predict_outcome = regr.predict(predict_value)\n",
    "    predictions = {}\n",
    "    predictions['intercept'] = regr.intercept_\n",
    "    predictions['coefficient'] = regr.coef_\n",
    "    predictions['predicted_value'] = predict_outcome\n",
    "    return predictions"
   ]
  },
  {
   "cell_type": "code",
   "execution_count": 5,
   "metadata": {
    "collapsed": false
   },
   "outputs": [
    {
     "name": "stdout",
     "output_type": "stream",
     "text": [
      "Intercept value  1771.80851064\n",
      "coefficient [ 28.77659574]\n",
      "Predicted value:  [ 21915.42553191]\n"
     ]
    }
   ],
   "source": [
    "predict_value = 700\n",
    "result = linear_model_main(x,y,predict_value)\n",
    "print(\"Intercept value \" , result['intercept'])\n",
    "print(\"coefficient\" , result['coefficient'])\n",
    "print(\"Predicted value: \",result['predicted_value'])"
   ]
  },
  {
   "cell_type": "markdown",
   "metadata": {},
   "source": [
    "# Summary of the Model"
   ]
  },
  {
   "cell_type": "code",
   "execution_count": 6,
   "metadata": {
    "collapsed": false
   },
   "outputs": [
    {
     "data": {
      "text/html": [
       "<table class=\"simpletable\">\n",
       "<caption>OLS Regression Results</caption>\n",
       "<tr>\n",
       "  <th>Dep. Variable:</th>            <td>y</td>        <th>  R-squared:         </th> <td>   0.990</td>\n",
       "</tr>\n",
       "<tr>\n",
       "  <th>Model:</th>                   <td>OLS</td>       <th>  Adj. R-squared:    </th> <td>   0.988</td>\n",
       "</tr>\n",
       "<tr>\n",
       "  <th>Method:</th>             <td>Least Squares</td>  <th>  F-statistic:       </th> <td>   577.5</td>\n",
       "</tr>\n",
       "<tr>\n",
       "  <th>Date:</th>             <td>Tue, 28 Nov 2017</td> <th>  Prob (F-statistic):</th> <td>3.41e-07</td>\n",
       "</tr>\n",
       "<tr>\n",
       "  <th>Time:</th>                 <td>21:55:29</td>     <th>  Log-Likelihood:    </th> <td> -59.519</td>\n",
       "</tr>\n",
       "<tr>\n",
       "  <th>No. Observations:</th>      <td>     7</td>      <th>  AIC:               </th> <td>   121.0</td>\n",
       "</tr>\n",
       "<tr>\n",
       "  <th>Df Residuals:</th>          <td>     6</td>      <th>  BIC:               </th> <td>   121.0</td>\n",
       "</tr>\n",
       "<tr>\n",
       "  <th>Df Model:</th>              <td>     1</td>      <th>                     </th>     <td> </td>   \n",
       "</tr>\n",
       "<tr>\n",
       "  <th>Covariance Type:</th>      <td>nonrobust</td>    <th>                     </th>     <td> </td>   \n",
       "</tr>\n",
       "</table>\n",
       "<table class=\"simpletable\">\n",
       "<tr>\n",
       "   <td></td>     <th>coef</th>     <th>std err</th>      <th>t</th>      <th>P>|t|</th> <th>[95.0% Conf. Int.]</th> \n",
       "</tr>\n",
       "<tr>\n",
       "  <th>x1</th> <td>   33.4257</td> <td>    1.391</td> <td>   24.030</td> <td> 0.000</td> <td>   30.022    36.829</td>\n",
       "</tr>\n",
       "</table>\n",
       "<table class=\"simpletable\">\n",
       "<tr>\n",
       "  <th>Omnibus:</th>       <td>   nan</td> <th>  Durbin-Watson:     </th> <td>   2.056</td>\n",
       "</tr>\n",
       "<tr>\n",
       "  <th>Prob(Omnibus):</th> <td>   nan</td> <th>  Jarque-Bera (JB):  </th> <td>   0.280</td>\n",
       "</tr>\n",
       "<tr>\n",
       "  <th>Skew:</th>          <td> 0.007</td> <th>  Prob(JB):          </th> <td>   0.869</td>\n",
       "</tr>\n",
       "<tr>\n",
       "  <th>Kurtosis:</th>      <td> 2.021</td> <th>  Cond. No.          </th> <td>    1.00</td>\n",
       "</tr>\n",
       "</table>"
      ],
      "text/plain": [
       "<class 'statsmodels.iolib.summary.Summary'>\n",
       "\"\"\"\n",
       "                            OLS Regression Results                            \n",
       "==============================================================================\n",
       "Dep. Variable:                      y   R-squared:                       0.990\n",
       "Model:                            OLS   Adj. R-squared:                  0.988\n",
       "Method:                 Least Squares   F-statistic:                     577.5\n",
       "Date:                Tue, 28 Nov 2017   Prob (F-statistic):           3.41e-07\n",
       "Time:                        21:55:29   Log-Likelihood:                -59.519\n",
       "No. Observations:                   7   AIC:                             121.0\n",
       "Df Residuals:                       6   BIC:                             121.0\n",
       "Df Model:                           1                                         \n",
       "Covariance Type:            nonrobust                                         \n",
       "==============================================================================\n",
       "                 coef    std err          t      P>|t|      [95.0% Conf. Int.]\n",
       "------------------------------------------------------------------------------\n",
       "x1            33.4257      1.391     24.030      0.000        30.022    36.829\n",
       "==============================================================================\n",
       "Omnibus:                          nan   Durbin-Watson:                   2.056\n",
       "Prob(Omnibus):                    nan   Jarque-Bera (JB):                0.280\n",
       "Skew:                           0.007   Prob(JB):                        0.869\n",
       "Kurtosis:                       2.021   Cond. No.                         1.00\n",
       "==============================================================================\n",
       "\n",
       "Warnings:\n",
       "[1] Standard Errors assume that the covariance matrix of the errors is correctly specified.\n",
       "\"\"\""
      ]
     },
     "execution_count": 6,
     "metadata": {},
     "output_type": "execute_result"
    }
   ],
   "source": [
    "X = sm.add_constant(x)\n",
    "model = sm.OLS(y,x).fit()\n",
    "model.summary()"
   ]
  },
  {
   "cell_type": "markdown",
   "metadata": {},
   "source": [
    "# Plotting the Result"
   ]
  },
  {
   "cell_type": "code",
   "execution_count": 7,
   "metadata": {
    "collapsed": true
   },
   "outputs": [],
   "source": [
    "def show_linear_line(X_parameters,Y_parameters):\n",
    "    # Create linear regression object\n",
    "    regr = linear_model.LinearRegression()\n",
    "    regr.fit(X_parameters, Y_parameters)\n",
    "    plt.scatter(X_parameters,Y_parameters,color='blue')\n",
    "    plt.plot(X_parameters,regr.predict(X_parameters),color='red',linewidth=4)\n",
    "    plt.xticks(())\n",
    "    plt.yticks(())\n",
    "    plt.show()"
   ]
  },
  {
   "cell_type": "code",
   "execution_count": 8,
   "metadata": {
    "collapsed": false
   },
   "outputs": [
    {
     "data": {
      "image/png": "[encoded data removed]",
      "text/plain": [
       "<matplotlib.figure.Figure at 0x10ec54320>"
      ]
     },
     "metadata": {},
     "output_type": "display_data"
    }
   ],
   "source": [
    "show_linear_line(x,y)"
   ]
  }
 ],
 "metadata": {
  "kernelspec": {
   "display_name": "Python 3",
   "language": "python",
   "name": "python3"
  },
  "language_info": {
   "codemirror_mode": {
    "name": "ipython",
    "version": 3
   },
   "file_extension": ".py",
   "mimetype": "text/x-python",
   "name": "python",
   "nbconvert_exporter": "python",
   "pygments_lexer": "ipython3",
   "version": "3.6.0"
  }
 },
 "nbformat": 4,
 "nbformat_minor": 2
}
